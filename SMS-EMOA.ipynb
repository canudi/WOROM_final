{
 "cells": [
  {
   "cell_type": "code",
   "execution_count": null,
   "metadata": {
    "collapsed": true
   },
   "outputs": [],
   "source": [
    "import numpy as np\n",
    "\n",
    "def select(gen, f_vals, mu):\n",
    "    \"\"\"\n",
    "\n",
    "    :param gen:\n",
    "    :param f_vals:\n",
    "    :param mu:\n",
    "    :return:\n",
    "    \"\"\"\n",
    "    # first criteria - choose minimum rank samples\n",
    "    ranks = pareto_ranking(f_vals)\n",
    "    min_rank = ranks.min()\n",
    "    selected = gen[ranks == min_rank]\n",
    "    while selected.shape[0] + gen[ranks == min_rank + 1] < mu:\n",
    "        min_rank += 1\n",
    "        selected = np.concatenate((selected, gen[ranks == min_rank]), axis=0)\n",
    "    if selected.shape[0] == mu:\n",
    "        if ranks.min() == 0:            # found mu non-dominated samples\n",
    "            return selected, 0          # let SMS-EMOA return selected\n",
    "        # else => found mu dominated\n",
    "        return selected, np.inf         # let SMS-EMOA continue with selected as next generation\n",
    "\n",
    "    # second criteria - use hyper-volume\n",
    "    contribution = hyper_volume(f_vals[ranks == min_rank])\n",
    "    selected = np.concatenate((selected, (gen[ranks == min_rank])[np.argsort(contribution)[-(mu - selected.shape[0]):]]))\n",
    "    if min_rank == 0:\n",
    "        return\n",
    "    # for objective_func in range(f_vals.shape[1]):\n",
    "    #     next_gen = next_gen.sort(key=lambda x: x[1][objective_func])\n",
    "\n",
    "def hyper_volume(f_vals, r):\n",
    "    \"\"\"\n",
    "    Calculates the dominated hyper-volume contribution of each individual in the generation.\n",
    "    :param f_vals:  m objective functions values for each of the n individuals  - ndarray.\n",
    "    :param r:       a relation f_values point symbolizing the worst solution f_values.\n",
    "    :return:        the contribution (with - without) of each individual        - ndarray.\n",
    "    \"\"\"\n",
    "    # abs_vals, abs_r = np.abs(f_vals), np.abs(r)\n",
    "    ribs = np.abs(f_vals - r)               # ribs is a matrix of the ribs of each box\n",
    "    box_volumes = np.prod(ribs, axis=1)\n",
    "    without = np.array([np.sum(np.delete(box_volumes), i, axis=0) for i in range(box_volumes.shape[0])])\n",
    "    return np.sum(box_volumes) - without\n"
   ]
  },
  {
   "cell_type": "code",
   "execution_count": null,
   "outputs": [],
   "source": [
    "import pandas as pd\n",
    "\n",
    "def dominate(x1: np.array, x2: np.array):\n",
    "    return (x1 <= x2).all() and (x1 < x2).any()\n",
    "\n",
    "def pareto_ranking(ObjFncVectors):\n",
    "    X = pd.DataFrame(ObjFncVectors)\n",
    "    return np.array([np.sum(X.T.apply(lambda x: dominate(x, X.T[i]), axis=0)) for i in range(X.shape[0])])"
   ],
   "metadata": {
    "collapsed": false,
    "pycharm": {
     "name": "#%%\n"
    }
   }
  },
  {
   "cell_type": "code",
   "execution_count": null,
   "outputs": [],
   "source": [
    "def SMS_EMOA(d, boundaries, F, variate, mu, sigma, epsilon=1e-3):\n",
    "    \"\"\"\n",
    "\n",
    "    :param d:\n",
    "    :param boundaries:  size 2 tuple - (upper_bound, lower_bound) for initializing\n",
    "    :param F:           multy-objective functions\n",
    "    :param variate:     functor(y) - y is f values of each objective function\n",
    "    :param mu:\n",
    "    :param sigma:\n",
    "    :param epsilon:\n",
    "    :return:\n",
    "    \"\"\"\n",
    "    # init random population of samples degree d in boundaries - pop\n",
    "    gen = np.random.rand(sigma, d) * (boundaries[1] - boundaries[0]) - boundaries[0]\n",
    "    f_vals = [[f(x) for f in F] for x in gen]\n",
    "    improve = np.inf\n",
    "    # while loo\n",
    "    while improve > epsilon:\n",
    "        next_gen = variate(gen, f_vals)          # next_gen - sigma new samples\n",
    "        nf_vals = [[f(x) for f in F] for x in next_gen]\n",
    "        gen, improve = select(np.concatenate((gen, next_gen), axis=0),\n",
    "                              np.concatenate((f_vals, nf_vals), axis=0), mu)\n",
    "    return gen\n"
   ],
   "metadata": {
    "collapsed": false,
    "pycharm": {
     "name": "#%%\n"
    }
   }
  }
 ],
 "metadata": {
  "kernelspec": {
   "display_name": "Python 3",
   "language": "python",
   "name": "python3"
  },
  "language_info": {
   "codemirror_mode": {
    "name": "ipython",
    "version": 2
   },
   "file_extension": ".py",
   "mimetype": "text/x-python",
   "name": "python",
   "nbconvert_exporter": "python",
   "pygments_lexer": "ipython2",
   "version": "2.7.6"
  }
 },
 "nbformat": 4,
 "nbformat_minor": 0
}